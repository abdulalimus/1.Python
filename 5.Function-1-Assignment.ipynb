{
 "cells": [
  {
   "cell_type": "code",
   "execution_count": 3,
   "id": "defc0050-6f1e-4bc7-b138-fbade2eea85d",
   "metadata": {},
   "outputs": [],
   "source": [
    "def Subfields():\n",
    "    for domain in lists:\n",
    "        print (domain)"
   ]
  },
  {
   "cell_type": "code",
   "execution_count": 11,
   "id": "ae63a534-9101-4dac-b179-deeb5fe801aa",
   "metadata": {},
   "outputs": [
    {
     "name": "stdout",
     "output_type": "stream",
     "text": [
      "Subfields in AI are: \n",
      "Machine Learning\n",
      "Neural Networks\n",
      "Vision\n",
      "Robotics\n",
      "Speech Processing\n",
      "Natural Language Processing\n"
     ]
    }
   ],
   "source": [
    "lists = [\"Machine Learning\", \"Neural Networks\", \"Vision\", \"Robotics\", \"Speech Processing\", \"Natural Language Processing\"]\n",
    "print(\"Subfields in AI are: \")\n",
    "Subfields()"
   ]
  },
  {
   "cell_type": "code",
   "execution_count": 39,
   "id": "9b2a0a26-8cc4-4a67-af15-217060336d29",
   "metadata": {},
   "outputs": [],
   "source": [
    "def OddEven():\n",
    "    if (num%2 == 0):\n",
    "        Message = \"is Even Number\"\n",
    "    else:\n",
    "        Message = \"is Odd Number\"\n",
    "    return Message "
   ]
  },
  {
   "cell_type": "code",
   "execution_count": 41,
   "id": "b5b9f1bd-fb06-4a80-9dc7-fabf3df32614",
   "metadata": {},
   "outputs": [
    {
     "name": "stdin",
     "output_type": "stream",
     "text": [
      "Enter a number:  34\n"
     ]
    },
    {
     "name": "stdout",
     "output_type": "stream",
     "text": [
      "34 is Even Number\n"
     ]
    }
   ],
   "source": [
    "num = int(input(\"Enter a number: \"))\n",
    "Message = OddEven()\n",
    "print (num, Message)"
   ]
  },
  {
   "cell_type": "code",
   "execution_count": 115,
   "id": "d2ff8aea-b038-439a-bf5c-28a4e9e7fa1a",
   "metadata": {},
   "outputs": [],
   "source": [
    "class EligibilityForMarriage():\n",
    "    def Eligible():\n",
    "        if (gender == \"Male\"):\n",
    "            if (age >= 21):\n",
    "                eligibility = \"ELIGIBLE\"\n",
    "            else:\n",
    "                eligibility = \"NOT ELIGIBLE\"\n",
    "        else:\n",
    "            if (age >= 18):\n",
    "                eligibility = \"ELIGIBLE\"\n",
    "            else:\n",
    "                eligibility = \"NOT ELIGIBLE\"\n",
    "        return eligibility\n",
    "\n",
    "\n",
    "            "
   ]
  },
  {
   "cell_type": "code",
   "execution_count": 117,
   "id": "d3e7eb79-418a-498b-bf68-87ed13c5617d",
   "metadata": {},
   "outputs": [
    {
     "name": "stdin",
     "output_type": "stream",
     "text": [
      "Enter your gender:  Female\n",
      "Enter your age:  17\n"
     ]
    },
    {
     "name": "stdout",
     "output_type": "stream",
     "text": [
      "Your Gender:  Female\n",
      "Your Age:  17\n",
      "NOT ELIGIBLE\n"
     ]
    }
   ],
   "source": [
    "gender = input(\"Enter your gender: \")\n",
    "age = int(input(\"Enter your age: \"))\n",
    "eligibility = EligibilityForMarriage.Eligible()\n",
    "print (\"Your Gender: \", gender)\n",
    "print (\"Your Age: \", age)\n",
    "print (eligibility)\n"
   ]
  },
  {
   "cell_type": "code",
   "execution_count": 119,
   "id": "e700e96c-c619-42c6-b94f-13aff69d72e9",
   "metadata": {},
   "outputs": [],
   "source": [
    "class FindPercent():\n",
    "    def percentage():\n",
    "        total = subject1 + subject2 + subject3 + subject4 + subject5\n",
    "        percent = total / 500 * 100\n",
    "        return percent"
   ]
  },
  {
   "cell_type": "code",
   "execution_count": 121,
   "id": "de31c159-edb2-4f64-9b49-fced637352a4",
   "metadata": {},
   "outputs": [
    {
     "name": "stdout",
     "output_type": "stream",
     "text": [
      "Subject1 =  98\n",
      "Subject2 =  87\n",
      "Subject3 =  95\n",
      "Subject4 =  95\n",
      "Subject5 =  93\n",
      "Percentage:  93.60000000000001\n"
     ]
    }
   ],
   "source": [
    "subject1 = 98\n",
    "subject2 = 87\n",
    "subject3 = 95\n",
    "subject4 = 95\n",
    "subject5 = 93\n",
    "percent = FindPercent.percentage()\n",
    "print (\"Subject1 = \", subject1)\n",
    "print (\"Subject2 = \", subject2)\n",
    "print (\"Subject3 = \", subject3)\n",
    "print (\"Subject4 = \", subject4)\n",
    "print (\"Subject5 = \", subject5)\n",
    "print (\"Percentage: \", percent)"
   ]
  },
  {
   "cell_type": "code",
   "execution_count": 123,
   "id": "dde02e0e-3789-4dd5-89f9-b369eac8b624",
   "metadata": {},
   "outputs": [],
   "source": [
    "class triangle():\n",
    "    def triangle():\n",
    "        area = (height * breadth) / 2 \n",
    "        perimeter = height1 + height2 + breadth1\n",
    "        return area, perimeter"
   ]
  },
  {
   "cell_type": "code",
   "execution_count": 125,
   "id": "be96c03e-4da2-4464-9673-48f2bbee4dc0",
   "metadata": {},
   "outputs": [
    {
     "name": "stdout",
     "output_type": "stream",
     "text": [
      "Height:  32\n",
      "Breadth:  34\n",
      "Area of Triangle:  544.0\n",
      "Height1:  2\n",
      "Height2:  4\n",
      "Breadth:  4\n",
      "Perimeter of Triangle:  10\n"
     ]
    }
   ],
   "source": [
    "height = 32\n",
    "breadth = 34\n",
    "height1 = 2\n",
    "height2 = 4\n",
    "breadth1 = 4\n",
    "area, perimeter = triangle.triangle()\n",
    "print (\"Height: \", height)\n",
    "print (\"Breadth: \", breadth)\n",
    "print (\"Area of Triangle: \", area)\n",
    "print (\"Height1: \", height1)\n",
    "print (\"Height2: \", height2)\n",
    "print (\"Breadth: \", breadth1)\n",
    "print (\"Perimeter of Triangle: \", perimeter)"
   ]
  },
  {
   "cell_type": "code",
   "execution_count": null,
   "id": "932487c1-6436-49f4-b036-dd041d19a06e",
   "metadata": {},
   "outputs": [],
   "source": []
  }
 ],
 "metadata": {
  "kernelspec": {
   "display_name": "Python [conda env:base] *",
   "language": "python",
   "name": "conda-base-py"
  },
  "language_info": {
   "codemirror_mode": {
    "name": "ipython",
    "version": 3
   },
   "file_extension": ".py",
   "mimetype": "text/x-python",
   "name": "python",
   "nbconvert_exporter": "python",
   "pygments_lexer": "ipython3",
   "version": "3.12.7"
  }
 },
 "nbformat": 4,
 "nbformat_minor": 5
}
