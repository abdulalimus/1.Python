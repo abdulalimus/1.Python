{
 "cells": [
  {
   "cell_type": "code",
   "execution_count": 1,
   "id": "22bbbc88-3f3b-4c20-8d35-bafd0b550e20",
   "metadata": {},
   "outputs": [
    {
     "name": "stdout",
     "output_type": "stream",
     "text": [
      "HOPE AI\n"
     ]
    }
   ],
   "source": [
    "print (\"HOPE AI\")"
   ]
  },
  {
   "cell_type": "code",
   "execution_count": 7,
   "id": "de7e0b3d-ebf6-41c8-b91e-6f4e7e44ff28",
   "metadata": {},
   "outputs": [
    {
     "name": "stdin",
     "output_type": "stream",
     "text": [
      "Enter your institute name? :  HOPE AI\n"
     ]
    }
   ],
   "source": [
    "#BUY Input\n",
    "institute_name = input (\"Enter your institute name? : \")"
   ]
  },
  {
   "cell_type": "code",
   "execution_count": 9,
   "id": "677c6fe6-ed56-40fb-9086-1ec14cc02483",
   "metadata": {},
   "outputs": [
    {
     "name": "stdin",
     "output_type": "stream",
     "text": [
      "Enter your name:  Raj\n",
      "Enter your age:  15\n",
      "Enter your school name:  Guru School\n",
      "Enter your degree:  B.E. Computer Science\n"
     ]
    }
   ],
   "source": [
    "#BUY Inputs\n",
    "name = input (\"Enter your name: \")\n",
    "age = int(input (\"Enter your age: \"))\n",
    "school_name = input (\"Enter your school name: \")\n",
    "degree = input (\"Enter your degree: \")"
   ]
  },
  {
   "cell_type": "code",
   "execution_count": 17,
   "id": "31a00208-6973-41eb-9416-9233b3ae03d9",
   "metadata": {},
   "outputs": [
    {
     "name": "stdout",
     "output_type": "stream",
     "text": [
      "a = 43\n",
      "b = 34\n",
      "Add = 77\n"
     ]
    }
   ],
   "source": [
    "#Addition\n",
    "a = 43\n",
    "b = 34\n",
    "add = a + b\n",
    "print(\"a =\", a)\n",
    "print(\"b =\", b)\n",
    "print(\"Add =\", add)"
   ]
  },
  {
   "cell_type": "code",
   "execution_count": 19,
   "id": "874df790-9672-4256-863c-623fb4284f0f",
   "metadata": {},
   "outputs": [
    {
     "name": "stdout",
     "output_type": "stream",
     "text": [
      "a = 43\n",
      "b = 34\n",
      "Sub = 9\n"
     ]
    }
   ],
   "source": [
    "#Subtraction\n",
    "a = 43\n",
    "b = 34\n",
    "sub = a - b\n",
    "print(\"a =\", a)\n",
    "print(\"b =\", b)\n",
    "print(\"Sub =\", sub)"
   ]
  },
  {
   "cell_type": "code",
   "execution_count": 23,
   "id": "a399e40d-294c-4134-8988-3c8a1becca03",
   "metadata": {},
   "outputs": [
    {
     "name": "stdout",
     "output_type": "stream",
     "text": [
      "a = 63\n",
      "b = 97\n",
      "Mul = 6111\n"
     ]
    }
   ],
   "source": [
    "#Multiplication\n",
    "a = 63\n",
    "b = 97\n",
    "mul = a * b\n",
    "print(\"a =\", a)\n",
    "print(\"b =\", b)\n",
    "print(\"Mul =\", mul)"
   ]
  },
  {
   "cell_type": "code",
   "execution_count": 27,
   "id": "3ac16210-95b8-4635-8ba5-687294937d22",
   "metadata": {},
   "outputs": [
    {
     "name": "stdout",
     "output_type": "stream",
     "text": [
      "a = 76\n",
      "b = 31\n",
      "Float Div = 2.4516129032258065\n"
     ]
    }
   ],
   "source": [
    "#Division\n",
    "a = 76\n",
    "b = 31\n",
    "div = a / b\n",
    "print(\"a =\", a)\n",
    "print(\"b =\", b)\n",
    "print(\"Float Div =\", div)"
   ]
  },
  {
   "cell_type": "code",
   "execution_count": 33,
   "id": "010d993a-ff12-4ac6-bc1d-24de024f7f30",
   "metadata": {},
   "outputs": [
    {
     "name": "stdout",
     "output_type": "stream",
     "text": [
      "a = 76\n",
      "b = 31\n",
      "Floor Div = 2\n"
     ]
    }
   ],
   "source": [
    "#Floor Division\n",
    "a = 76\n",
    "b = 31\n",
    "div = int (a / b)\n",
    "print(\"a =\", a)\n",
    "print(\"b =\", b)\n",
    "print(\"Floor Div =\", div)"
   ]
  },
  {
   "cell_type": "code",
   "execution_count": 39,
   "id": "47498c39-775d-4f08-93ca-d3a78023566b",
   "metadata": {},
   "outputs": [
    {
     "name": "stdout",
     "output_type": "stream",
     "text": [
      "a = 76\n",
      "b = 31\n",
      "Modulo = 14\n"
     ]
    }
   ],
   "source": [
    "#Modulo\n",
    "a = 76\n",
    "b = 31\n",
    "modulo = a % b\n",
    "print(\"a =\", a)\n",
    "print(\"b =\", b)\n",
    "print(\"Modulo =\", modulo)"
   ]
  },
  {
   "cell_type": "code",
   "execution_count": 41,
   "id": "38fb182f-48c6-423e-ada6-100b6ad4f615",
   "metadata": {},
   "outputs": [
    {
     "name": "stdout",
     "output_type": "stream",
     "text": [
      "a = 4\n",
      "b = 4\n",
      "Power = 256\n"
     ]
    }
   ],
   "source": [
    "#Power\n",
    "a = 4\n",
    "b = 4\n",
    "power = a ** b\n",
    "print(\"a =\", a)\n",
    "print(\"b =\", b)\n",
    "print(\"Power =\", power)"
   ]
  },
  {
   "cell_type": "code",
   "execution_count": null,
   "id": "4bcb9c2d-b1bb-43f2-8bac-c57614f3c581",
   "metadata": {},
   "outputs": [],
   "source": []
  }
 ],
 "metadata": {
  "kernelspec": {
   "display_name": "Python [conda env:base] *",
   "language": "python",
   "name": "conda-base-py"
  },
  "language_info": {
   "codemirror_mode": {
    "name": "ipython",
    "version": 3
   },
   "file_extension": ".py",
   "mimetype": "text/x-python",
   "name": "python",
   "nbconvert_exporter": "python",
   "pygments_lexer": "ipython3",
   "version": "3.12.7"
  }
 },
 "nbformat": 4,
 "nbformat_minor": 5
}
