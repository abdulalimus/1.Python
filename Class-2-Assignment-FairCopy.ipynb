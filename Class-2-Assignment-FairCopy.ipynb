{
 "cells": [
  {
   "cell_type": "code",
   "execution_count": 5,
   "id": "76eefd50-6d17-4c5d-b5b8-c243127ea05d",
   "metadata": {},
   "outputs": [],
   "source": [
    "from Class2MultipleFunctions import Class2MultipleFunctions"
   ]
  },
  {
   "cell_type": "code",
   "execution_count": 7,
   "id": "52abe7e4-ece0-4a23-8da8-3fe73e0147b5",
   "metadata": {},
   "outputs": [
    {
     "name": "stdout",
     "output_type": "stream",
     "text": [
      "Subfields in AI are: \n",
      "Machine Learning\n",
      "Neural Networks\n",
      "Vision\n",
      "Robotics\n",
      "Speech Processing\n",
      "Natural Language Processing\n"
     ]
    }
   ],
   "source": [
    "Class2MultipleFunctions.Subfields()"
   ]
  },
  {
   "cell_type": "code",
   "execution_count": 9,
   "id": "b5b9f1bd-fb06-4a80-9dc7-fabf3df32614",
   "metadata": {},
   "outputs": [
    {
     "name": "stdin",
     "output_type": "stream",
     "text": [
      "Enter a number:  234\n"
     ]
    },
    {
     "name": "stdout",
     "output_type": "stream",
     "text": [
      "234 is Even Number\n"
     ]
    }
   ],
   "source": [
    "number = int(input(\"Enter a number: \"))\n",
    "result = Class2MultipleFunctions.OddEven(number)\n",
    "print(result)"
   ]
  },
  {
   "cell_type": "code",
   "execution_count": 11,
   "id": "d3e7eb79-418a-498b-bf68-87ed13c5617d",
   "metadata": {},
   "outputs": [
    {
     "name": "stdin",
     "output_type": "stream",
     "text": [
      "Enter your gender:  Female\n",
      "Enter your age:  23\n"
     ]
    },
    {
     "name": "stdout",
     "output_type": "stream",
     "text": [
      "Your Gender:  Female\n",
      "Your Age:  23\n",
      "ELIGIBLE\n"
     ]
    }
   ],
   "source": [
    "gender = input(\"Enter your gender: \")\n",
    "age = int(input(\"Enter your age: \"))\n",
    "eligibility = Class2MultipleFunctions.Eligible(gender,age)\n",
    "print (\"Your Gender: \", gender)\n",
    "print (\"Your Age: \", age)\n",
    "print (eligibility)\n"
   ]
  },
  {
   "cell_type": "code",
   "execution_count": 13,
   "id": "de31c159-edb2-4f64-9b49-fced637352a4",
   "metadata": {},
   "outputs": [
    {
     "name": "stdout",
     "output_type": "stream",
     "text": [
      "Subject1 =  98\n",
      "Subject2 =  87\n",
      "Subject3 =  95\n",
      "Subject4 =  95\n",
      "Subject5 =  93\n",
      "Percentage:  93.60000000000001\n"
     ]
    }
   ],
   "source": [
    "subject1 = 98\n",
    "subject2 = 87\n",
    "subject3 = 95\n",
    "subject4 = 95\n",
    "subject5 = 93\n",
    "percent = Class2MultipleFunctions.percentage(subject1,subject2,subject3,subject4,subject5)\n",
    "print (\"Subject1 = \", subject1)\n",
    "print (\"Subject2 = \", subject2)\n",
    "print (\"Subject3 = \", subject3)\n",
    "print (\"Subject4 = \", subject4)\n",
    "print (\"Subject5 = \", subject5)\n",
    "print (\"Percentage: \", percent)"
   ]
  },
  {
   "cell_type": "code",
   "execution_count": 3,
   "id": "be96c03e-4da2-4464-9673-48f2bbee4dc0",
   "metadata": {},
   "outputs": [
    {
     "name": "stdout",
     "output_type": "stream",
     "text": [
      "Height:  32\n",
      "Breadth:  34\n",
      "Area of Triangle:  544.0\n",
      "Height1:  2\n",
      "Height2:  4\n",
      "Breadth:  4\n",
      "Perimeter of Triangle:  10\n"
     ]
    }
   ],
   "source": [
    "height = 32\n",
    "breadth = 34\n",
    "height1 = 2\n",
    "height2 = 4\n",
    "breadth1 = 4\n",
    "area, perimeter = Class2MultipleFunctions.triangle(height,breadth,height1,height2,breadth1)\n",
    "print (\"Height: \", height)\n",
    "print (\"Breadth: \", breadth)\n",
    "print (\"Area of Triangle: \", area)\n",
    "print (\"Height1: \", height1)\n",
    "print (\"Height2: \", height2)\n",
    "print (\"Breadth: \", breadth1)\n",
    "print (\"Perimeter of Triangle: \", perimeter)"
   ]
  },
  {
   "cell_type": "code",
   "execution_count": null,
   "id": "932487c1-6436-49f4-b036-dd041d19a06e",
   "metadata": {},
   "outputs": [],
   "source": []
  }
 ],
 "metadata": {
  "kernelspec": {
   "display_name": "Python [conda env:base] *",
   "language": "python",
   "name": "conda-base-py"
  },
  "language_info": {
   "codemirror_mode": {
    "name": "ipython",
    "version": 3
   },
   "file_extension": ".py",
   "mimetype": "text/x-python",
   "name": "python",
   "nbconvert_exporter": "python",
   "pygments_lexer": "ipython3",
   "version": "3.12.7"
  }
 },
 "nbformat": 4,
 "nbformat_minor": 5
}
