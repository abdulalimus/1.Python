{
 "cells": [
  {
   "cell_type": "code",
   "execution_count": 13,
   "id": "76eefd50-6d17-4c5d-b5b8-c243127ea05d",
   "metadata": {},
   "outputs": [],
   "source": [
    "from Class2MultipleFunctions import Class2MultipleFunctions"
   ]
  },
  {
   "cell_type": "code",
   "execution_count": 15,
   "id": "52abe7e4-ece0-4a23-8da8-3fe73e0147b5",
   "metadata": {},
   "outputs": [
    {
     "name": "stdout",
     "output_type": "stream",
     "text": [
      "Subfields in AI are: \n",
      "Machine Learning\n",
      "Neural Networks\n",
      "Vision\n",
      "Robotics\n",
      "Speech Processing\n",
      "Natural Language Processing\n"
     ]
    }
   ],
   "source": [
    "Class2MultipleFunctions.Subfields()"
   ]
  },
  {
   "cell_type": "code",
   "execution_count": 17,
   "id": "b5b9f1bd-fb06-4a80-9dc7-fabf3df32614",
   "metadata": {},
   "outputs": [
    {
     "name": "stdin",
     "output_type": "stream",
     "text": [
      "Enter a number:  12\n"
     ]
    },
    {
     "ename": "AttributeError",
     "evalue": "type object 'Class2MultipleFunctions' has no attribute 'OddEven'",
     "output_type": "error",
     "traceback": [
      "\u001b[1;31m---------------------------------------------------------------------------\u001b[0m",
      "\u001b[1;31mAttributeError\u001b[0m                            Traceback (most recent call last)",
      "Cell \u001b[1;32mIn[17], line 3\u001b[0m\n\u001b[0;32m      1\u001b[0m number \u001b[38;5;241m=\u001b[39m \u001b[38;5;28mint\u001b[39m(\u001b[38;5;28minput\u001b[39m(\u001b[38;5;124m\"\u001b[39m\u001b[38;5;124mEnter a number: \u001b[39m\u001b[38;5;124m\"\u001b[39m))\n\u001b[0;32m      2\u001b[0m obj \u001b[38;5;241m=\u001b[39m Class2MultipleFunctions\n\u001b[1;32m----> 3\u001b[0m result \u001b[38;5;241m=\u001b[39m obj\u001b[38;5;241m.\u001b[39mOddEven(number)\n\u001b[0;32m      4\u001b[0m \u001b[38;5;28mprint\u001b[39m(result)\n",
      "\u001b[1;31mAttributeError\u001b[0m: type object 'Class2MultipleFunctions' has no attribute 'OddEven'"
     ]
    }
   ],
   "source": [
    "number = int(input(\"Enter a number: \"))\n",
    "obj = Class2MultipleFunctions ()\n",
    "result = obj.OddEven(number)\n",
    "print(result)"
   ]
  },
  {
   "cell_type": "code",
   "execution_count": null,
   "id": "d3e7eb79-418a-498b-bf68-87ed13c5617d",
   "metadata": {},
   "outputs": [],
   "source": [
    "gender = input(\"Enter your gender: \")\n",
    "age = int(input(\"Enter your age: \"))\n",
    "eligibility = Class2MultipleFunctions.Eligible()\n",
    "print (\"Your Gender: \", gender)\n",
    "print (\"Your Age: \", age)\n",
    "print (eligibility)\n"
   ]
  },
  {
   "cell_type": "code",
   "execution_count": null,
   "id": "e700e96c-c619-42c6-b94f-13aff69d72e9",
   "metadata": {},
   "outputs": [],
   "source": [
    "def percentage():\n",
    "    total = subject1 + subject2 + subject3 + subject4 + subject5\n",
    "    percent = total / 500 * 100\n",
    "    return percent"
   ]
  },
  {
   "cell_type": "code",
   "execution_count": null,
   "id": "de31c159-edb2-4f64-9b49-fced637352a4",
   "metadata": {},
   "outputs": [],
   "source": [
    "subject1 = 98\n",
    "subject2 = 87\n",
    "subject3 = 95\n",
    "subject4 = 95\n",
    "subject5 = 93\n",
    "percent = percentage()\n",
    "print (\"Subject1 = \", subject1)\n",
    "print (\"Subject2 = \", subject2)\n",
    "print (\"Subject3 = \", subject3)\n",
    "print (\"Subject4 = \", subject4)\n",
    "print (\"Subject5 = \", subject5)\n",
    "print (\"Percentage: \", percent)"
   ]
  },
  {
   "cell_type": "code",
   "execution_count": null,
   "id": "dde02e0e-3789-4dd5-89f9-b369eac8b624",
   "metadata": {},
   "outputs": [],
   "source": [
    "def triangle():\n",
    "    area = (height * breadth) / 2 \n",
    "    perimeter = height1 + height2 + breadth1\n",
    "    return area, perimeter"
   ]
  },
  {
   "cell_type": "code",
   "execution_count": null,
   "id": "be96c03e-4da2-4464-9673-48f2bbee4dc0",
   "metadata": {},
   "outputs": [],
   "source": [
    "height = 32\n",
    "breadth = 34\n",
    "height1 = 2\n",
    "height2 = 4\n",
    "breadth1 = 4\n",
    "area, perimeter = triangle()\n",
    "print (\"Height: \", height)\n",
    "print (\"Breadth: \", breadth)\n",
    "print (\"Area of Triangle: \", area)\n",
    "print (\"Height1: \", height1)\n",
    "print (\"Height2: \", height2)\n",
    "print (\"Breadth: \", breadth1)\n",
    "print (\"Perimeter of Triangle: \", perimeter)"
   ]
  },
  {
   "cell_type": "code",
   "execution_count": null,
   "id": "932487c1-6436-49f4-b036-dd041d19a06e",
   "metadata": {},
   "outputs": [],
   "source": []
  }
 ],
 "metadata": {
  "kernelspec": {
   "display_name": "Python [conda env:base] *",
   "language": "python",
   "name": "conda-base-py"
  },
  "language_info": {
   "codemirror_mode": {
    "name": "ipython",
    "version": 3
   },
   "file_extension": ".py",
   "mimetype": "text/x-python",
   "name": "python",
   "nbconvert_exporter": "python",
   "pygments_lexer": "ipython3",
   "version": "3.12.7"
  }
 },
 "nbformat": 4,
 "nbformat_minor": 5
}
