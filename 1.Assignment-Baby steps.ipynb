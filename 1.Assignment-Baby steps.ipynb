{
 "cells": [
  {
   "cell_type": "code",
   "execution_count": 1,
   "id": "9789906d-d65b-45a4-affd-364afefde3f6",
   "metadata": {},
   "outputs": [
    {
     "name": "stdout",
     "output_type": "stream",
     "text": [
      "Welcome to Assignemnt-1\n"
     ]
    }
   ],
   "source": [
    "print(\"Welcome to Assignemnt-1\")"
   ]
  },
  {
   "cell_type": "code",
   "execution_count": 7,
   "id": "eef67b71-92cf-42fd-b24c-fed9d9fad093",
   "metadata": {},
   "outputs": [
    {
     "name": "stdout",
     "output_type": "stream",
     "text": [
      "Num1:  10\n",
      "Num2:  30\n",
      "Add:  40\n"
     ]
    }
   ],
   "source": [
    "num1 = 10\n",
    "num2 = 30\n",
    "add = num1 + num2\n",
    "print(\"Num1: \", num1)\n",
    "print(\"Num2: \", num2)\n",
    "print(\"Add: \", add)"
   ]
  },
  {
   "cell_type": "code",
   "execution_count": 19,
   "id": "c4dd35d7-67e8-47d2-a67f-cb941dd4968c",
   "metadata": {},
   "outputs": [
    {
     "name": "stdin",
     "output_type": "stream",
     "text": [
      "Enter the BMI Index:  34\n"
     ]
    },
    {
     "name": "stdout",
     "output_type": "stream",
     "text": [
      "Very Overweight\n"
     ]
    }
   ],
   "source": [
    "# Body Mass Index\n",
    "bmi = int(input(\"Enter the BMI Index: \"))\n",
    "if (bmi<18.5):\n",
    "    print(\"Underweight\")\n",
    "elif(bmi<25): \n",
    "    print(\"Normal\")\n",
    "elif(bmi<30): \n",
    "    print(\"Overweight\")\n",
    "elif(bmi<40): \n",
    "    print(\"Very Overweight\")\n",
    "else:\n",
    "    print (\"Severly Overweight\")"
   ]
  },
  {
   "cell_type": "code",
   "execution_count": null,
   "id": "3d977a7b-fe10-434b-b13d-bf64d0b1f878",
   "metadata": {},
   "outputs": [],
   "source": []
  }
 ],
 "metadata": {
  "kernelspec": {
   "display_name": "Python [conda env:base] *",
   "language": "python",
   "name": "conda-base-py"
  },
  "language_info": {
   "codemirror_mode": {
    "name": "ipython",
    "version": 3
   },
   "file_extension": ".py",
   "mimetype": "text/x-python",
   "name": "python",
   "nbconvert_exporter": "python",
   "pygments_lexer": "ipython3",
   "version": "3.12.7"
  }
 },
 "nbformat": 4,
 "nbformat_minor": 5
}
