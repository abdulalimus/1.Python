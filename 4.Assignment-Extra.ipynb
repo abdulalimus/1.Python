{
 "cells": [
  {
   "cell_type": "code",
   "execution_count": 1,
   "id": "41714694-463f-4e02-8203-44cc151ab954",
   "metadata": {},
   "outputs": [
    {
     "name": "stdout",
     "output_type": "stream",
     "text": [
      "value:  10\n",
      "Correct\n"
     ]
    }
   ],
   "source": [
    "#print correct if i == 10\n",
    "i = 10\n",
    "if (i == 10):\n",
    "    print (\"value: \", i)\n",
    "    print (\"Correct\")"
   ]
  },
  {
   "cell_type": "code",
   "execution_count": 11,
   "id": "aac0aa11-463a-4a73-92af-15f28425cc85",
   "metadata": {},
   "outputs": [
    {
     "name": "stdin",
     "output_type": "stream",
     "text": [
      "Enter the password:  Hope@123\n"
     ]
    },
    {
     "name": "stdout",
     "output_type": "stream",
     "text": [
      "Your password is inorrect\n"
     ]
    }
   ],
   "source": [
    "#check the password, using if and else\n",
    "password = input (\"Enter the password: \")\n",
    "if (password == \"HOPE@123\"):\n",
    "    print (\"Your password is Correct\")\n",
    "else:\n",
    "    print (\"Your password is inorrect\")"
   ]
  },
  {
   "cell_type": "code",
   "execution_count": 17,
   "id": "ad16dbd0-9e26-43ad-ad2d-0ff448ca90f1",
   "metadata": {},
   "outputs": [
    {
     "name": "stdin",
     "output_type": "stream",
     "text": [
      "Enter the age: 67\n"
     ]
    },
    {
     "name": "stdout",
     "output_type": "stream",
     "text": [
      "Senior\n"
     ]
    }
   ],
   "source": [
    "#Categorize people based on age\n",
    "age = int(input(\"Enter the age:\"))\n",
    "if (age<=12):\n",
    "    print(\"Minor\")\n",
    "elif(age<=19): \n",
    "    print(\"Teenager\")\n",
    "elif(age<=65): \n",
    "    print(\"Adult\")\n",
    "else:\n",
    "    print (\"Senior\")"
   ]
  },
  {
   "cell_type": "code",
   "execution_count": 27,
   "id": "7cea989d-f359-407f-b8f6-d2678eb4465b",
   "metadata": {},
   "outputs": [
    {
     "name": "stdin",
     "output_type": "stream",
     "text": [
      "Enter any number: 4\n"
     ]
    },
    {
     "name": "stdout",
     "output_type": "stream",
     "text": [
      "Number is postive\n"
     ]
    }
   ],
   "source": [
    "# Find whether given number is positive or negative\n",
    "num = int(input(\"Enter any number:\"))\n",
    "if (num>=0):\n",
    "    print(\"Number is postive\")\n",
    "else:\n",
    "    print (\"Number is negative\")"
   ]
  },
  {
   "cell_type": "code",
   "execution_count": 33,
   "id": "be94a791-93f0-4fbb-8fae-e7113c38d9e7",
   "metadata": {},
   "outputs": [
    {
     "name": "stdin",
     "output_type": "stream",
     "text": [
      "Enter a number to check: 22\n"
     ]
    },
    {
     "name": "stdout",
     "output_type": "stream",
     "text": [
      "Number is not divisible by 5\n"
     ]
    }
   ],
   "source": [
    "# Check whether given number is divisible by 5\n",
    "num = int(input(\"Enter a number to check:\"))\n",
    "if (num % 5 == 0):\n",
    "    print(\"Number is divisible by 5\")\n",
    "else:\n",
    "    print (\"Number is not divisible by 5\")"
   ]
  },
  {
   "cell_type": "code",
   "execution_count": null,
   "id": "e1c68c86-6ae7-47f6-ad64-640c2d8adae8",
   "metadata": {},
   "outputs": [],
   "source": []
  }
 ],
 "metadata": {
  "kernelspec": {
   "display_name": "Python [conda env:base] *",
   "language": "python",
   "name": "conda-base-py"
  },
  "language_info": {
   "codemirror_mode": {
    "name": "ipython",
    "version": 3
   },
   "file_extension": ".py",
   "mimetype": "text/x-python",
   "name": "python",
   "nbconvert_exporter": "python",
   "pygments_lexer": "ipython3",
   "version": "3.12.7"
  }
 },
 "nbformat": 4,
 "nbformat_minor": 5
}
