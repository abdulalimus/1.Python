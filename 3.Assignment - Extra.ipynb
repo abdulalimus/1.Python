{
 "cells": [
  {
   "cell_type": "code",
   "execution_count": 3,
   "id": "b9ba3826-c2b7-4999-ae68-d30ff410a36f",
   "metadata": {},
   "outputs": [
    {
     "name": "stdout",
     "output_type": "stream",
     "text": [
      "0\n",
      "1\n",
      "2\n",
      "3\n",
      "4\n",
      "5\n",
      "6\n",
      "7\n",
      "8\n",
      "9\n",
      "10\n",
      "11\n",
      "12\n",
      "13\n",
      "14\n",
      "15\n",
      "16\n",
      "17\n",
      "18\n",
      "19\n"
     ]
    }
   ],
   "source": [
    "# print 0 to 20 by using range\n",
    "for num in range (0,20):\n",
    "    print(num)"
   ]
  },
  {
   "cell_type": "code",
   "execution_count": 11,
   "id": "f3bf711e-7512-49e2-b32c-da0440d727e3",
   "metadata": {},
   "outputs": [
    {
     "name": "stdout",
     "output_type": "stream",
     "text": [
      "10\n",
      "11\n",
      "12\n",
      "13\n",
      "14\n",
      "15\n",
      "16\n",
      "17\n",
      "18\n",
      "19\n"
     ]
    }
   ],
   "source": [
    "# print 10 to 20 by using range\n",
    "for num in range (10,20):\n",
    "    print(num)"
   ]
  },
  {
   "cell_type": "code",
   "execution_count": 13,
   "id": "8ceaf036-6f00-4eb3-911a-d607c47763e7",
   "metadata": {},
   "outputs": [
    {
     "name": "stdout",
     "output_type": "stream",
     "text": [
      "Number of items in the List:  7\n"
     ]
    }
   ],
   "source": [
    "# print number of items in the list by uisng 'len'\n",
    "lists = [10,20,14,55,43,87,76]\n",
    "no_of_item = len(lists)\n",
    "print(\"Number of items in the List: \", no_of_item)"
   ]
  },
  {
   "cell_type": "code",
   "execution_count": 17,
   "id": "1bb989cb-53a2-4d62-b399-45d9c3dd7a38",
   "metadata": {},
   "outputs": [
    {
     "name": "stdout",
     "output_type": "stream",
     "text": [
      "Artifical Intelligence\n",
      "A\n",
      "r\n",
      "t\n",
      "i\n",
      "f\n",
      "i\n",
      "c\n",
      "a\n",
      "l\n",
      " \n",
      "I\n",
      "n\n",
      "t\n",
      "e\n",
      "l\n",
      "l\n",
      "i\n",
      "g\n",
      "e\n",
      "n\n",
      "c\n",
      "e\n"
     ]
    }
   ],
   "source": [
    "# print Artifical Intelligence \n",
    "word = \"Artifical Intelligence\"\n",
    "print(word)\n",
    "for letter in word:\n",
    "    print(letter)"
   ]
  },
  {
   "cell_type": "code",
   "execution_count": 21,
   "id": "a4bba9f8-77ab-4ff3-9a67-5245d2af4500",
   "metadata": {},
   "outputs": [
    {
     "name": "stdout",
     "output_type": "stream",
     "text": [
      "-Your Name-\n",
      "-Your Age-\n",
      "-Your Profession-\n"
     ]
    }
   ],
   "source": [
    "print (\"-Your Name-\")\n",
    "print (\"-Your Age-\")\n",
    "print (\"-Your Profession-\")"
   ]
  },
  {
   "cell_type": "code",
   "execution_count": 25,
   "id": "d224c646-c349-44bd-b2b2-baf9d243957e",
   "metadata": {},
   "outputs": [
    {
     "name": "stdout",
     "output_type": "stream",
     "text": [
      "(1, 'Welcome', 2, 'Hope')\n"
     ]
    }
   ],
   "source": [
    "# print mixed data types using tuples\n",
    "tup = (1, 'Welcome', 2, 'Hope')\n",
    "print (tup)"
   ]
  },
  {
   "cell_type": "code",
   "execution_count": 27,
   "id": "915f0111-8686-4652-937b-5acc445e9b6e",
   "metadata": {},
   "outputs": [
    {
     "name": "stdout",
     "output_type": "stream",
     "text": [
      "((0, 1, 2, 3), ('python', 'Hope'))\n"
     ]
    }
   ],
   "source": [
    "# create a tuple with nested tuples\n",
    "tup1 = (0,1,2, 3)\n",
    "tup2 = ('python', 'Hope')\n",
    "tup = (tup1, tup2)\n",
    "print (tup)"
   ]
  },
  {
   "cell_type": "code",
   "execution_count": 33,
   "id": "f7be1bb0-20bb-4973-afc6-a6d4b65a597d",
   "metadata": {},
   "outputs": [
    {
     "name": "stdout",
     "output_type": "stream",
     "text": [
      "19  is odd\n",
      "25  is odd\n",
      "1  is odd\n"
     ]
    }
   ],
   "source": [
    "#print odd numbers in the list\n",
    "Lists = [20,10,16,19,25,1,276,188]\n",
    "for num in Lists:\n",
    "    if (num%2 == 1):\n",
    "        print( num, \" is odd\")"
   ]
  },
  {
   "cell_type": "code",
   "execution_count": 35,
   "id": "d08a48d2-0920-4a14-bbe4-494f2c5751dc",
   "metadata": {},
   "outputs": [
    {
     "name": "stdout",
     "output_type": "stream",
     "text": [
      "20  is even\n",
      "10  is even\n",
      "16  is even\n",
      "276  is even\n",
      "188  is even\n"
     ]
    }
   ],
   "source": [
    "#print Even numbers in the list\n",
    "Lists = [20,10,16,19,25,1,276,188]\n",
    "for num in Lists:\n",
    "    if (num%2 == 0):\n",
    "        print( num, \" is even\")"
   ]
  },
  {
   "cell_type": "code",
   "execution_count": null,
   "id": "2b615953-bf55-413c-8bc3-8b5a7c3c8b5a",
   "metadata": {},
   "outputs": [],
   "source": []
  }
 ],
 "metadata": {
  "kernelspec": {
   "display_name": "Python [conda env:base] *",
   "language": "python",
   "name": "conda-base-py"
  },
  "language_info": {
   "codemirror_mode": {
    "name": "ipython",
    "version": 3
   },
   "file_extension": ".py",
   "mimetype": "text/x-python",
   "name": "python",
   "nbconvert_exporter": "python",
   "pygments_lexer": "ipython3",
   "version": "3.12.7"
  }
 },
 "nbformat": 4,
 "nbformat_minor": 5
}
